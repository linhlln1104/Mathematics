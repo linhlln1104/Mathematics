{
  "nbformat": 4,
  "nbformat_minor": 0,
  "metadata": {
    "colab": {
      "provenance": [],
      "collapsed_sections": [],
      "authorship_tag": "ABX9TyPFnWOsQRFgW+0iLTVSZL/p",
      "include_colab_link": true
    },
    "kernelspec": {
      "name": "python3",
      "display_name": "Python 3"
    },
    "language_info": {
      "name": "python"
    }
  },
  "cells": [
    {
      "cell_type": "markdown",
      "metadata": {
        "id": "view-in-github",
        "colab_type": "text"
      },
      "source": [
        "<a href=\"https://colab.research.google.com/github/linhlln1104/Mathematics/blob/main/vector.ipynb\" target=\"_parent\"><img src=\"https://colab.research.google.com/assets/colab-badge.svg\" alt=\"Open In Colab\"/></a>"
      ]
    },
    {
      "cell_type": "code",
      "source": [
        "import numpy as np\n",
        "from numpy.linalg import inv, det, matrix_rank, norm\n",
        "\n",
        "import math"
      ],
      "metadata": {
        "id": "oEnz7FkA4qZh"
      },
      "execution_count": null,
      "outputs": []
    },
    {
      "cell_type": "code",
      "execution_count": null,
      "metadata": {
        "id": "D9jAwpnonHFt"
      },
      "outputs": [],
      "source": [
        "#vector\n",
        "#ky hieu bang chu thuong\n",
        "v1 = np.array([1, 2, 3])\n",
        "v2 = np.array([4, 5, 6])\n",
        "\n",
        "v = v1 + v2\n",
        "print(v)\n",
        "v = v1 - v2\n",
        "print(v)\n",
        "v = v1 * v2\n",
        "print(v)\n",
        "v = v1 / v2\n",
        "print(v)\n",
        "v = v1 // v2\n",
        "print(v)\n"
      ]
    },
    {
      "cell_type": "code",
      "source": [
        "#dot product\n",
        "a = np.array([1, 2, 3])\n",
        "b = np.array([4, 5, 6])\n",
        "\n",
        "c = a.dot(b)\n",
        "#c = a1*b1 + a2*b2 + a3*b3\n",
        "\n",
        "print(c)\n",
        "\n",
        "#vector-scalar multiplication phep nhan vector-vo huong\n",
        "\n",
        "d = a * 5\n",
        "print(d)"
      ],
      "metadata": {
        "id": "_DxQ4Kaio2hz"
      },
      "execution_count": null,
      "outputs": []
    },
    {
      "cell_type": "code",
      "source": [
        "#NORM\n",
        "a = np.array([1, 2, 3])\n",
        "print(a)\n",
        "\n",
        "#L1: tong gia tri tuyet doi cua vector\n",
        "L1 = norm(a, 1)\n",
        "print(L1)\n",
        "\n",
        "#L2: can bac 2 cua tong cac gia tri binh phuong cua vector\n",
        "L2 = norm(a)\n",
        "print(L2)\n",
        "\n",
        "#Max norm: cac gia tri vector lon nhat\n",
        "Lmax = norm(a, math.inf)\n",
        "print(Lmax)"
      ],
      "metadata": {
        "id": "wkABOplYBVDH"
      },
      "execution_count": null,
      "outputs": []
    },
    {
      "cell_type": "code",
      "source": [
        "#MATRIX\n",
        "#Matrix la mot mang 2 chieu cac gia tri vo huong voi mot hoac nhieu cot va dong\n",
        "#Ky hieu bang chu IN HOA\n",
        "\n",
        "#matrix 3x3\n",
        "A = np.array([[1, 2, 3],[4, 5, 6], [7, 8, 9]])\n",
        "print(A)\n",
        "\n",
        "B = np.array([[3, 2, 1], [6, 5, 4], [9, 8, 7]])\n",
        "print(B)\n",
        "\n",
        "C = A + B\n",
        "print(C)\n",
        "\n",
        "C = A - B\n",
        "print(C)\n",
        "\n",
        "C = A * B\n",
        "print(C)\n",
        "\n",
        "C = A / B\n",
        "print(C)"
      ],
      "metadata": {
        "id": "6TGPxitJEacL"
      },
      "execution_count": null,
      "outputs": []
    },
    {
      "cell_type": "code",
      "source": [
        "#Matrix-Matrix multiplication\n",
        "\n",
        "A = np.array([[1, 2],[3, 4],[5, 6]])\n",
        "print(A)\n",
        "\n",
        "\n",
        "\n",
        "B = np.array([[7, 8], [9, 10]])\n",
        "print('\\n', B)\n",
        "\n",
        "\n",
        "\n",
        "C = A.dot(B)\n",
        "print('\\n', C)\n",
        "\n",
        "C = A @ B\n",
        "print('\\n', C)"
      ],
      "metadata": {
        "colab": {
          "base_uri": "https://localhost:8080/"
        },
        "id": "VsKwRa-rGpwg",
        "outputId": "0dc3ae56-aee7-4805-ef2c-2bd554b2f9d3"
      },
      "execution_count": null,
      "outputs": [
        {
          "output_type": "stream",
          "name": "stdout",
          "text": [
            "[[1 2]\n",
            " [3 4]\n",
            " [5 6]]\n",
            "\n",
            " [[ 7  8]\n",
            " [ 9 10]]\n",
            "\n",
            " [[ 25  28]\n",
            " [ 57  64]\n",
            " [ 89 100]]\n",
            "\n",
            " [[ 25  28]\n",
            " [ 57  64]\n",
            " [ 89 100]]\n"
          ]
        }
      ]
    },
    {
      "cell_type": "code",
      "source": [
        "#Matrix-Vector Multiplication\n",
        "\n",
        "A = np.array([[1, -1],[-1, 3]])\n",
        "print('\\n', A)\n",
        "\n",
        "v = np.array([2, -1])\n",
        "print('\\n', v)\n",
        "\n",
        "C = A.dot(v)\n",
        "print('\\n', C)"
      ],
      "metadata": {
        "colab": {
          "base_uri": "https://localhost:8080/"
        },
        "id": "eT6LGnQgJXrV",
        "outputId": "14c6236a-3a9d-4f3a-e190-39c164b0a9c9"
      },
      "execution_count": null,
      "outputs": [
        {
          "output_type": "stream",
          "name": "stdout",
          "text": [
            "\n",
            " [[ 1 -1]\n",
            " [-1  3]]\n",
            "\n",
            " [ 2 -1]\n",
            "\n",
            " [ 3 -5]\n"
          ]
        }
      ]
    },
    {
      "cell_type": "code",
      "source": [
        "#Matrix-Scalar Multiplication\n",
        "\n",
        "A = np.array([[1, 2, 3], [4, 5, 6], [7, 8, 9]])\n",
        "print(A)\n",
        "\n",
        "s = 2\n",
        "\n",
        "C = A.dot(s)\n",
        "print('\\n', C)\n",
        "\n",
        "C = A * s\n",
        "print('\\n', C)\n",
        "\n"
      ],
      "metadata": {
        "colab": {
          "base_uri": "https://localhost:8080/"
        },
        "id": "49CXuIMQLfcL",
        "outputId": "518c9e6d-c305-4956-875c-d1256ed2d1ae"
      },
      "execution_count": null,
      "outputs": [
        {
          "output_type": "stream",
          "name": "stdout",
          "text": [
            "[[1 2 3]\n",
            " [4 5 6]\n",
            " [7 8 9]]\n",
            "\n",
            " [[ 2  4  6]\n",
            " [ 8 10 12]\n",
            " [14 16 18]]\n",
            "\n",
            " [[ 2  4  6]\n",
            " [ 8 10 12]\n",
            " [14 16 18]]\n"
          ]
        }
      ]
    },
    {
      "cell_type": "code",
      "source": [
        "#Square Matrix - Ma tran vuong - co so dong bang so cot - rows = columns\n",
        "#Symmetrix Matrix - Ma tran doi xung - co tam giac top-right giong voi tam giac bottom-left\n",
        "#Triangular Matrix - Ma tran tam giac - La mot Square matrix co tam giac top-right hoac bottom-left co gia tri, phan con lai chua gia tri 0\n",
        "#Diagonal Matrix - Ma tran duong cheo - La mma tran ma cac gia tri ngoai duong cheo chinh deu = 0\n",
        "#Identity matrix - La ma tran vuong khong thay doi mot vector khi nhan vector voi ma tran nay. Gia tri tren duong cheo chinh bang 1 con nhung gia tri khac bang 0\n"
      ],
      "metadata": {
        "id": "8qytUBDdM3Rt"
      },
      "execution_count": null,
      "outputs": []
    },
    {
      "cell_type": "code",
      "source": [
        "#ma tran chuyen vi(transpose)\n",
        "\n",
        "A = np.array([[1.0, 2.0],[4.0, 5.0]])\n",
        "print(A)\n",
        "\n",
        "N = A.T\n",
        "print('\\n', N)\n",
        "\n",
        "#ma tran nghich dao(Inverse)\n",
        "B = inv(A)\n",
        "print('\\n', C)\n",
        "\n",
        "C = A.dot(B)\n",
        "print('\\n', C)\n",
        "\n",
        "\n",
        "#trace: tổng các phần tử trên đường chéo chính của ma trận vuông. VD: tr(A), tr(B)\\\n",
        "\n",
        "D = np.array([[1, 5],[2, 4]])\n",
        "print('\\n', D)\n",
        "\n",
        "E = np.trace(D) #tr(D) = 1 + 4 = 5\n",
        "print('\\n', E)\n",
        "\n",
        "#Determinant(dinh thuc): Dinh thuc cua ma tran vuong A laf mot gia tri vo huong det(A)\n",
        "\n",
        "F = det(D)\n",
        "print('\\n', F)\n",
        "\n",
        "#Rank(hang ma tran): La uoc tinh so luong hang hoac cot doc lap tuyen tinh trong ma tran\n",
        "\n",
        "G = "
      ],
      "metadata": {
        "id": "4uMuIQUe72ch",
        "colab": {
          "base_uri": "https://localhost:8080/"
        },
        "outputId": "5353d51a-a00a-4571-a5c4-a324abe143f0"
      },
      "execution_count": null,
      "outputs": [
        {
          "output_type": "stream",
          "name": "stdout",
          "text": [
            "[[1. 2.]\n",
            " [4. 5.]]\n",
            "\n",
            " [[1. 4.]\n",
            " [2. 5.]]\n",
            "\n",
            " [[1.00000000e+00 0.00000000e+00]\n",
            " [2.22044605e-16 1.00000000e+00]]\n",
            "\n",
            " [[1.00000000e+00 0.00000000e+00]\n",
            " [2.22044605e-16 1.00000000e+00]]\n",
            "\n",
            " [[1 5]\n",
            " [2 4]]\n",
            "\n",
            " 5\n",
            "\n",
            " -6.0\n"
          ]
        }
      ]
    }
  ]
}